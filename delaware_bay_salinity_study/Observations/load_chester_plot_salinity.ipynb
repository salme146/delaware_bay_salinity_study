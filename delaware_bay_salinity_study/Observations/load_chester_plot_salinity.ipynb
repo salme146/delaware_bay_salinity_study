{
 "cells": [
  {
   "cell_type": "markdown",
   "id": "bd478ff5",
   "metadata": {},
   "source": [
    "# This notebook will guide you through using the NWIS github \"dataretrieval\" repo to plot salinity in Delaware Bay"
   ]
  },
  {
   "cell_type": "markdown",
   "id": "bff57828",
   "metadata": {},
   "source": [
    "#### The repo </a>https://github.com/USGS-python/dataretrieval</a>\n",
    "##### License info here: </a>https://github.com/USGS-python/dataretrieval/blob/master/LICENSE.md</a>"
   ]
  },
  {
   "cell_type": "code",
   "execution_count": 198,
   "id": "b75b9eea",
   "metadata": {},
   "outputs": [],
   "source": [
    "import dataretrieval.nwis as nwis\n",
    "import matplotlib.pyplot as plt\n",
    "import pandas as pd\n",
    "import pytz\n",
    "from datetime import datetime, timezone"
   ]
  },
  {
   "cell_type": "markdown",
   "id": "bb1bfdbd",
   "metadata": {},
   "source": [
    "##### to search for an NWIS station, use the mapping tool </a> https://maps.waterdata.usgs.gov/mapper/index.html </a>\n",
    "####  <img src=\"https://d9-wret.s3.us-west-2.amazonaws.com/assets/palladium/production/s3fs-public/styles/full_width/public/thumbnails/image/nwis-mapper.png?itok=8pVkswjp\" width=700 height=700 />\n"
   ]
  },
  {
   "cell_type": "code",
   "execution_count": 175,
   "id": "c727fbb9",
   "metadata": {},
   "outputs": [],
   "source": [
    "# specify the USGS site code for which we want data.\n",
    "\n",
    "# Chester River\n",
    "site = '01477050'\n",
    "\n",
    "# get instantaneous values (iv)\n",
    "# pick start/end dates \n",
    "# load specific conductance values - parameter '00095'\n",
    "# Check NWIS site for parameter #'s : https://help.waterdata.usgs.gov/code/parameter_cd_query?fmt=rdb&inline=true&group_cd=%\n",
    "\n",
    "df = nwis.get_record(sites=site, service='iv', start='2016-01-01', end='2017-01-01',parameterCd='00095')"
   ]
  },
  {
   "cell_type": "code",
   "execution_count": 176,
   "id": "ca111f95",
   "metadata": {},
   "outputs": [
    {
     "data": {
      "text/html": [
       "<div>\n",
       "<style scoped>\n",
       "    .dataframe tbody tr th:only-of-type {\n",
       "        vertical-align: middle;\n",
       "    }\n",
       "\n",
       "    .dataframe tbody tr th {\n",
       "        vertical-align: top;\n",
       "    }\n",
       "\n",
       "    .dataframe thead th {\n",
       "        text-align: right;\n",
       "    }\n",
       "</style>\n",
       "<table border=\"1\" class=\"dataframe\">\n",
       "  <thead>\n",
       "    <tr style=\"text-align: right;\">\n",
       "      <th></th>\n",
       "      <th>00095</th>\n",
       "      <th>00095_cd</th>\n",
       "      <th>site_no</th>\n",
       "    </tr>\n",
       "    <tr>\n",
       "      <th>datetime</th>\n",
       "      <th></th>\n",
       "      <th></th>\n",
       "      <th></th>\n",
       "    </tr>\n",
       "  </thead>\n",
       "  <tbody>\n",
       "    <tr>\n",
       "      <th>2016-03-31T00:00:00.000-04:00</th>\n",
       "      <td>336.0</td>\n",
       "      <td>A</td>\n",
       "      <td>01477050</td>\n",
       "    </tr>\n",
       "    <tr>\n",
       "      <th>2016-03-31T00:15:00.000-04:00</th>\n",
       "      <td>334.0</td>\n",
       "      <td>A</td>\n",
       "      <td>01477050</td>\n",
       "    </tr>\n",
       "    <tr>\n",
       "      <th>2016-03-31T00:30:00.000-04:00</th>\n",
       "      <td>334.0</td>\n",
       "      <td>A</td>\n",
       "      <td>01477050</td>\n",
       "    </tr>\n",
       "    <tr>\n",
       "      <th>2016-03-31T00:45:00.000-04:00</th>\n",
       "      <td>336.0</td>\n",
       "      <td>A</td>\n",
       "      <td>01477050</td>\n",
       "    </tr>\n",
       "    <tr>\n",
       "      <th>2016-03-31T01:00:00.000-04:00</th>\n",
       "      <td>335.0</td>\n",
       "      <td>A</td>\n",
       "      <td>01477050</td>\n",
       "    </tr>\n",
       "  </tbody>\n",
       "</table>\n",
       "</div>"
      ],
      "text/plain": [
       "                               00095 00095_cd   site_no\n",
       "datetime                                               \n",
       "2016-03-31T00:00:00.000-04:00  336.0        A  01477050\n",
       "2016-03-31T00:15:00.000-04:00  334.0        A  01477050\n",
       "2016-03-31T00:30:00.000-04:00  334.0        A  01477050\n",
       "2016-03-31T00:45:00.000-04:00  336.0        A  01477050\n",
       "2016-03-31T01:00:00.000-04:00  335.0        A  01477050"
      ]
     },
     "execution_count": 176,
     "metadata": {},
     "output_type": "execute_result"
    }
   ],
   "source": [
    "# Display the information\n",
    "df.head()"
   ]
  },
  {
   "cell_type": "markdown",
   "id": "a29a0026",
   "metadata": {},
   "source": [
    "### Need to change the time stamp to reflect UTC"
   ]
  },
  {
   "cell_type": "code",
   "execution_count": 230,
   "id": "5b62f8d0",
   "metadata": {},
   "outputs": [],
   "source": [
    "df['date'] = pd.to_datetime(df.index,utc=True)"
   ]
  },
  {
   "cell_type": "code",
   "execution_count": 231,
   "id": "eb850ab0",
   "metadata": {},
   "outputs": [
    {
     "data": {
      "text/plain": [
       "datetime\n",
       "2016-03-31 00:00:00-04:00   2016-03-31 04:00:00+00:00\n",
       "2016-03-31 00:15:00-04:00   2016-03-31 04:15:00+00:00\n",
       "2016-03-31 00:30:00-04:00   2016-03-31 04:30:00+00:00\n",
       "2016-03-31 00:45:00-04:00   2016-03-31 04:45:00+00:00\n",
       "2016-03-31 01:00:00-04:00   2016-03-31 05:00:00+00:00\n",
       "                                       ...           \n",
       "2017-01-01 22:45:00-05:00   2017-01-02 03:45:00+00:00\n",
       "2017-01-01 23:00:00-05:00   2017-01-02 04:00:00+00:00\n",
       "2017-01-01 23:15:00-05:00   2017-01-02 04:15:00+00:00\n",
       "2017-01-01 23:30:00-05:00   2017-01-02 04:30:00+00:00\n",
       "2017-01-01 23:45:00-05:00   2017-01-02 04:45:00+00:00\n",
       "Name: date, Length: 26559, dtype: datetime64[ns, UTC]"
      ]
     },
     "execution_count": 231,
     "metadata": {},
     "output_type": "execute_result"
    }
   ],
   "source": [
    "# Check the values in the right column, still have the +00:00\n",
    "df['date']"
   ]
  },
  {
   "cell_type": "markdown",
   "id": "9af9a84f",
   "metadata": {},
   "source": [
    "##### try to get rid of the timezone \"+00:00\" :"
   ]
  },
  {
   "cell_type": "code",
   "execution_count": 234,
   "id": "1f84ffb1",
   "metadata": {},
   "outputs": [],
   "source": [
    "df['date'] = df['date'].dt.tz_localize(None)"
   ]
  },
  {
   "cell_type": "code",
   "execution_count": 235,
   "id": "c693b550",
   "metadata": {},
   "outputs": [
    {
     "data": {
      "text/plain": [
       "datetime\n",
       "2016-03-31 00:00:00-04:00   2016-03-31 04:00:00\n",
       "2016-03-31 00:15:00-04:00   2016-03-31 04:15:00\n",
       "2016-03-31 00:30:00-04:00   2016-03-31 04:30:00\n",
       "2016-03-31 00:45:00-04:00   2016-03-31 04:45:00\n",
       "2016-03-31 01:00:00-04:00   2016-03-31 05:00:00\n",
       "                                    ...        \n",
       "2017-01-01 22:45:00-05:00   2017-01-02 03:45:00\n",
       "2017-01-01 23:00:00-05:00   2017-01-02 04:00:00\n",
       "2017-01-01 23:15:00-05:00   2017-01-02 04:15:00\n",
       "2017-01-01 23:30:00-05:00   2017-01-02 04:30:00\n",
       "2017-01-01 23:45:00-05:00   2017-01-02 04:45:00\n",
       "Name: date, Length: 26559, dtype: datetime64[ns]"
      ]
     },
     "execution_count": 235,
     "metadata": {},
     "output_type": "execute_result"
    }
   ],
   "source": [
    "df['date']"
   ]
  },
  {
   "cell_type": "code",
   "execution_count": 236,
   "id": "b1ebfbf8",
   "metadata": {},
   "outputs": [
    {
     "data": {
      "text/html": [
       "<div>\n",
       "<style scoped>\n",
       "    .dataframe tbody tr th:only-of-type {\n",
       "        vertical-align: middle;\n",
       "    }\n",
       "\n",
       "    .dataframe tbody tr th {\n",
       "        vertical-align: top;\n",
       "    }\n",
       "\n",
       "    .dataframe thead th {\n",
       "        text-align: right;\n",
       "    }\n",
       "</style>\n",
       "<table border=\"1\" class=\"dataframe\">\n",
       "  <thead>\n",
       "    <tr style=\"text-align: right;\">\n",
       "      <th></th>\n",
       "      <th>00095</th>\n",
       "      <th>00095_cd</th>\n",
       "      <th>site_no</th>\n",
       "      <th>date</th>\n",
       "      <th>salinity</th>\n",
       "    </tr>\n",
       "    <tr>\n",
       "      <th>datetime</th>\n",
       "      <th></th>\n",
       "      <th></th>\n",
       "      <th></th>\n",
       "      <th></th>\n",
       "      <th></th>\n",
       "    </tr>\n",
       "  </thead>\n",
       "  <tbody>\n",
       "    <tr>\n",
       "      <th>2016-03-31 00:00:00-04:00</th>\n",
       "      <td>336.0</td>\n",
       "      <td>A</td>\n",
       "      <td>01477050</td>\n",
       "      <td>2016-03-31 04:00:00</td>\n",
       "      <td>0.161696</td>\n",
       "    </tr>\n",
       "    <tr>\n",
       "      <th>2016-03-31 00:15:00-04:00</th>\n",
       "      <td>334.0</td>\n",
       "      <td>A</td>\n",
       "      <td>01477050</td>\n",
       "      <td>2016-03-31 04:15:00</td>\n",
       "      <td>0.160735</td>\n",
       "    </tr>\n",
       "    <tr>\n",
       "      <th>2016-03-31 00:30:00-04:00</th>\n",
       "      <td>334.0</td>\n",
       "      <td>A</td>\n",
       "      <td>01477050</td>\n",
       "      <td>2016-03-31 04:30:00</td>\n",
       "      <td>0.160735</td>\n",
       "    </tr>\n",
       "    <tr>\n",
       "      <th>2016-03-31 00:45:00-04:00</th>\n",
       "      <td>336.0</td>\n",
       "      <td>A</td>\n",
       "      <td>01477050</td>\n",
       "      <td>2016-03-31 04:45:00</td>\n",
       "      <td>0.161696</td>\n",
       "    </tr>\n",
       "    <tr>\n",
       "      <th>2016-03-31 01:00:00-04:00</th>\n",
       "      <td>335.0</td>\n",
       "      <td>A</td>\n",
       "      <td>01477050</td>\n",
       "      <td>2016-03-31 05:00:00</td>\n",
       "      <td>0.161215</td>\n",
       "    </tr>\n",
       "    <tr>\n",
       "      <th>...</th>\n",
       "      <td>...</td>\n",
       "      <td>...</td>\n",
       "      <td>...</td>\n",
       "      <td>...</td>\n",
       "      <td>...</td>\n",
       "    </tr>\n",
       "    <tr>\n",
       "      <th>2017-01-01 22:45:00-05:00</th>\n",
       "      <td>417.0</td>\n",
       "      <td>A</td>\n",
       "      <td>01477050</td>\n",
       "      <td>2017-01-02 03:45:00</td>\n",
       "      <td>0.200888</td>\n",
       "    </tr>\n",
       "    <tr>\n",
       "      <th>2017-01-01 23:00:00-05:00</th>\n",
       "      <td>421.0</td>\n",
       "      <td>A</td>\n",
       "      <td>01477050</td>\n",
       "      <td>2017-01-02 04:00:00</td>\n",
       "      <td>0.202836</td>\n",
       "    </tr>\n",
       "    <tr>\n",
       "      <th>2017-01-01 23:15:00-05:00</th>\n",
       "      <td>420.0</td>\n",
       "      <td>A</td>\n",
       "      <td>01477050</td>\n",
       "      <td>2017-01-02 04:15:00</td>\n",
       "      <td>0.202349</td>\n",
       "    </tr>\n",
       "    <tr>\n",
       "      <th>2017-01-01 23:30:00-05:00</th>\n",
       "      <td>429.0</td>\n",
       "      <td>A</td>\n",
       "      <td>01477050</td>\n",
       "      <td>2017-01-02 04:30:00</td>\n",
       "      <td>0.206733</td>\n",
       "    </tr>\n",
       "    <tr>\n",
       "      <th>2017-01-01 23:45:00-05:00</th>\n",
       "      <td>424.0</td>\n",
       "      <td>A</td>\n",
       "      <td>01477050</td>\n",
       "      <td>2017-01-02 04:45:00</td>\n",
       "      <td>0.204297</td>\n",
       "    </tr>\n",
       "  </tbody>\n",
       "</table>\n",
       "<p>26559 rows × 5 columns</p>\n",
       "</div>"
      ],
      "text/plain": [
       "                           00095 00095_cd   site_no                date  \\\n",
       "datetime                                                                  \n",
       "2016-03-31 00:00:00-04:00  336.0        A  01477050 2016-03-31 04:00:00   \n",
       "2016-03-31 00:15:00-04:00  334.0        A  01477050 2016-03-31 04:15:00   \n",
       "2016-03-31 00:30:00-04:00  334.0        A  01477050 2016-03-31 04:30:00   \n",
       "2016-03-31 00:45:00-04:00  336.0        A  01477050 2016-03-31 04:45:00   \n",
       "2016-03-31 01:00:00-04:00  335.0        A  01477050 2016-03-31 05:00:00   \n",
       "...                          ...      ...       ...                 ...   \n",
       "2017-01-01 22:45:00-05:00  417.0        A  01477050 2017-01-02 03:45:00   \n",
       "2017-01-01 23:00:00-05:00  421.0        A  01477050 2017-01-02 04:00:00   \n",
       "2017-01-01 23:15:00-05:00  420.0        A  01477050 2017-01-02 04:15:00   \n",
       "2017-01-01 23:30:00-05:00  429.0        A  01477050 2017-01-02 04:30:00   \n",
       "2017-01-01 23:45:00-05:00  424.0        A  01477050 2017-01-02 04:45:00   \n",
       "\n",
       "                           salinity  \n",
       "datetime                             \n",
       "2016-03-31 00:00:00-04:00  0.161696  \n",
       "2016-03-31 00:15:00-04:00  0.160735  \n",
       "2016-03-31 00:30:00-04:00  0.160735  \n",
       "2016-03-31 00:45:00-04:00  0.161696  \n",
       "2016-03-31 01:00:00-04:00  0.161215  \n",
       "...                             ...  \n",
       "2017-01-01 22:45:00-05:00  0.200888  \n",
       "2017-01-01 23:00:00-05:00  0.202836  \n",
       "2017-01-01 23:15:00-05:00  0.202349  \n",
       "2017-01-01 23:30:00-05:00  0.206733  \n",
       "2017-01-01 23:45:00-05:00  0.204297  \n",
       "\n",
       "[26559 rows x 5 columns]"
      ]
     },
     "execution_count": 236,
     "metadata": {},
     "output_type": "execute_result"
    }
   ],
   "source": [
    "df"
   ]
  },
  {
   "cell_type": "markdown",
   "id": "69db5e0d",
   "metadata": {},
   "source": [
    "### Create a function to convert specific conductance to salinity"
   ]
  },
  {
   "cell_type": "code",
   "execution_count": 237,
   "id": "0616875a",
   "metadata": {},
   "outputs": [],
   "source": [
    "# Follow USGS guidance on conversion : \n",
    "# Citatiom: Lewis, E.L., 1980, # The Practical Salinity Scale 1978 and its antecedents: IEEE Journal of Oceanic Engineering, v. OE–5, no. 1, p. 3−8.\n",
    "# described in this USGS report: https://pubs.usgs.gov/tm/2006/tm1D3/pdf/TM1D3.pdf\n",
    "\n",
    "def convert_to_salinity(df):\n",
    "    R = df['00095'].values/1000/53.087;\n",
    "    K1 = 0.012;\n",
    "    K2 = -0.2174;\n",
    "    K3 = 25.3283;\n",
    "    K4 = 13.7714;\n",
    "    K5 = -6.4788;\n",
    "    K6 = 2.5842;\n",
    "\n",
    "    salinity = K1+(K2*R**(1/2))+(K3*R)+(K4*R**(3/2))+(K5*R**2)+(K6*R**(5/2));\n",
    "\n",
    "    return salinity"
   ]
  },
  {
   "cell_type": "code",
   "execution_count": 238,
   "id": "9935135b",
   "metadata": {},
   "outputs": [],
   "source": [
    "# Use code to convert specific conductance to salinity and the add to dataframe\n",
    "\n",
    "df['salinity']=convert_to_salinity(df)"
   ]
  },
  {
   "cell_type": "code",
   "execution_count": 239,
   "id": "3ca2ea5f",
   "metadata": {},
   "outputs": [
    {
     "data": {
      "text/html": [
       "<div>\n",
       "<style scoped>\n",
       "    .dataframe tbody tr th:only-of-type {\n",
       "        vertical-align: middle;\n",
       "    }\n",
       "\n",
       "    .dataframe tbody tr th {\n",
       "        vertical-align: top;\n",
       "    }\n",
       "\n",
       "    .dataframe thead th {\n",
       "        text-align: right;\n",
       "    }\n",
       "</style>\n",
       "<table border=\"1\" class=\"dataframe\">\n",
       "  <thead>\n",
       "    <tr style=\"text-align: right;\">\n",
       "      <th></th>\n",
       "      <th>00095</th>\n",
       "      <th>00095_cd</th>\n",
       "      <th>site_no</th>\n",
       "      <th>date</th>\n",
       "      <th>salinity</th>\n",
       "    </tr>\n",
       "    <tr>\n",
       "      <th>datetime</th>\n",
       "      <th></th>\n",
       "      <th></th>\n",
       "      <th></th>\n",
       "      <th></th>\n",
       "      <th></th>\n",
       "    </tr>\n",
       "  </thead>\n",
       "  <tbody>\n",
       "    <tr>\n",
       "      <th>2016-03-31 00:00:00-04:00</th>\n",
       "      <td>336.0</td>\n",
       "      <td>A</td>\n",
       "      <td>01477050</td>\n",
       "      <td>2016-03-31 04:00:00</td>\n",
       "      <td>0.161696</td>\n",
       "    </tr>\n",
       "    <tr>\n",
       "      <th>2016-03-31 00:15:00-04:00</th>\n",
       "      <td>334.0</td>\n",
       "      <td>A</td>\n",
       "      <td>01477050</td>\n",
       "      <td>2016-03-31 04:15:00</td>\n",
       "      <td>0.160735</td>\n",
       "    </tr>\n",
       "    <tr>\n",
       "      <th>2016-03-31 00:30:00-04:00</th>\n",
       "      <td>334.0</td>\n",
       "      <td>A</td>\n",
       "      <td>01477050</td>\n",
       "      <td>2016-03-31 04:30:00</td>\n",
       "      <td>0.160735</td>\n",
       "    </tr>\n",
       "    <tr>\n",
       "      <th>2016-03-31 00:45:00-04:00</th>\n",
       "      <td>336.0</td>\n",
       "      <td>A</td>\n",
       "      <td>01477050</td>\n",
       "      <td>2016-03-31 04:45:00</td>\n",
       "      <td>0.161696</td>\n",
       "    </tr>\n",
       "    <tr>\n",
       "      <th>2016-03-31 01:00:00-04:00</th>\n",
       "      <td>335.0</td>\n",
       "      <td>A</td>\n",
       "      <td>01477050</td>\n",
       "      <td>2016-03-31 05:00:00</td>\n",
       "      <td>0.161215</td>\n",
       "    </tr>\n",
       "    <tr>\n",
       "      <th>...</th>\n",
       "      <td>...</td>\n",
       "      <td>...</td>\n",
       "      <td>...</td>\n",
       "      <td>...</td>\n",
       "      <td>...</td>\n",
       "    </tr>\n",
       "    <tr>\n",
       "      <th>2017-01-01 22:45:00-05:00</th>\n",
       "      <td>417.0</td>\n",
       "      <td>A</td>\n",
       "      <td>01477050</td>\n",
       "      <td>2017-01-02 03:45:00</td>\n",
       "      <td>0.200888</td>\n",
       "    </tr>\n",
       "    <tr>\n",
       "      <th>2017-01-01 23:00:00-05:00</th>\n",
       "      <td>421.0</td>\n",
       "      <td>A</td>\n",
       "      <td>01477050</td>\n",
       "      <td>2017-01-02 04:00:00</td>\n",
       "      <td>0.202836</td>\n",
       "    </tr>\n",
       "    <tr>\n",
       "      <th>2017-01-01 23:15:00-05:00</th>\n",
       "      <td>420.0</td>\n",
       "      <td>A</td>\n",
       "      <td>01477050</td>\n",
       "      <td>2017-01-02 04:15:00</td>\n",
       "      <td>0.202349</td>\n",
       "    </tr>\n",
       "    <tr>\n",
       "      <th>2017-01-01 23:30:00-05:00</th>\n",
       "      <td>429.0</td>\n",
       "      <td>A</td>\n",
       "      <td>01477050</td>\n",
       "      <td>2017-01-02 04:30:00</td>\n",
       "      <td>0.206733</td>\n",
       "    </tr>\n",
       "    <tr>\n",
       "      <th>2017-01-01 23:45:00-05:00</th>\n",
       "      <td>424.0</td>\n",
       "      <td>A</td>\n",
       "      <td>01477050</td>\n",
       "      <td>2017-01-02 04:45:00</td>\n",
       "      <td>0.204297</td>\n",
       "    </tr>\n",
       "  </tbody>\n",
       "</table>\n",
       "<p>26559 rows × 5 columns</p>\n",
       "</div>"
      ],
      "text/plain": [
       "                           00095 00095_cd   site_no                date  \\\n",
       "datetime                                                                  \n",
       "2016-03-31 00:00:00-04:00  336.0        A  01477050 2016-03-31 04:00:00   \n",
       "2016-03-31 00:15:00-04:00  334.0        A  01477050 2016-03-31 04:15:00   \n",
       "2016-03-31 00:30:00-04:00  334.0        A  01477050 2016-03-31 04:30:00   \n",
       "2016-03-31 00:45:00-04:00  336.0        A  01477050 2016-03-31 04:45:00   \n",
       "2016-03-31 01:00:00-04:00  335.0        A  01477050 2016-03-31 05:00:00   \n",
       "...                          ...      ...       ...                 ...   \n",
       "2017-01-01 22:45:00-05:00  417.0        A  01477050 2017-01-02 03:45:00   \n",
       "2017-01-01 23:00:00-05:00  421.0        A  01477050 2017-01-02 04:00:00   \n",
       "2017-01-01 23:15:00-05:00  420.0        A  01477050 2017-01-02 04:15:00   \n",
       "2017-01-01 23:30:00-05:00  429.0        A  01477050 2017-01-02 04:30:00   \n",
       "2017-01-01 23:45:00-05:00  424.0        A  01477050 2017-01-02 04:45:00   \n",
       "\n",
       "                           salinity  \n",
       "datetime                             \n",
       "2016-03-31 00:00:00-04:00  0.161696  \n",
       "2016-03-31 00:15:00-04:00  0.160735  \n",
       "2016-03-31 00:30:00-04:00  0.160735  \n",
       "2016-03-31 00:45:00-04:00  0.161696  \n",
       "2016-03-31 01:00:00-04:00  0.161215  \n",
       "...                             ...  \n",
       "2017-01-01 22:45:00-05:00  0.200888  \n",
       "2017-01-01 23:00:00-05:00  0.202836  \n",
       "2017-01-01 23:15:00-05:00  0.202349  \n",
       "2017-01-01 23:30:00-05:00  0.206733  \n",
       "2017-01-01 23:45:00-05:00  0.204297  \n",
       "\n",
       "[26559 rows x 5 columns]"
      ]
     },
     "execution_count": 239,
     "metadata": {},
     "output_type": "execute_result"
    }
   ],
   "source": [
    "df"
   ]
  },
  {
   "cell_type": "code",
   "execution_count": 242,
   "id": "d03af0c4",
   "metadata": {},
   "outputs": [
    {
     "data": {
      "text/plain": [
       "<AxesSubplot:xlabel='datetime'>"
      ]
     },
     "execution_count": 242,
     "metadata": {},
     "output_type": "execute_result"
    },
    {
     "data": {
      "image/png": "[encoded data removed]",
      "text/plain": [
       "<Figure size 1296x432 with 1 Axes>"
      ]
     },
     "metadata": {
      "needs_background": "light"
     },
     "output_type": "display_data"
    }
   ],
   "source": [
    "fig,ax1 = plt.subplots(figsize=(18,6))\n",
    "\n",
    "df.plot(kind='line',y='salinity', color='red', ax=ax1)"
   ]
  },
  {
   "cell_type": "code",
   "execution_count": 243,
   "id": "1a03800d",
   "metadata": {},
   "outputs": [
    {
     "data": {
      "text/plain": [
       "[<matplotlib.lines.Line2D at 0x2aac2c7c8250>]"
      ]
     },
     "execution_count": 243,
     "metadata": {},
     "output_type": "execute_result"
    },
    {
     "data": {
      "image/png": "[encoded data removed]",
      "text/plain": [
       "<Figure size 1296x432 with 1 Axes>"
      ]
     },
     "metadata": {
      "needs_background": "light"
     },
     "output_type": "display_data"
    }
   ],
   "source": [
    "fig,ax1 = plt.subplots(figsize=(18,6))\n",
    "\n",
    "plt.plot(df['date'],df['salinity'])"
   ]
  },
  {
   "cell_type": "code",
   "execution_count": null,
   "id": "f0f166e0",
   "metadata": {},
   "outputs": [],
   "source": []
  }
 ],
 "metadata": {
  "kernelspec": {
   "display_name": "Python [conda env:pangeox] *",
   "language": "python",
   "name": "conda-env-pangeox-py"
  },
  "language_info": {
   "codemirror_mode": {
    "name": "ipython",
    "version": 3
   },
   "file_extension": ".py",
   "mimetype": "text/x-python",
   "name": "python",
   "nbconvert_exporter": "python",
   "pygments_lexer": "ipython3",
   "version": "3.8.0"
  }
 },
 "nbformat": 4,
 "nbformat_minor": 5
}
